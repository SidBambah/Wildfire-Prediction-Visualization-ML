{
  "nbformat": 4,
  "nbformat_minor": 0,
  "metadata": {
    "colab": {
      "name": "MongoDB Testing.ipynb",
      "provenance": [],
      "collapsed_sections": []
    },
    "kernelspec": {
      "name": "python3",
      "display_name": "Python 3"
    }
  },
  "cells": [
    {
      "cell_type": "code",
      "metadata": {
        "id": "q4FGjS8yfCtg",
        "colab_type": "code",
        "outputId": "f160e966-086c-4c86-dadf-ad62f92bd39d",
        "colab": {
          "base_uri": "https://localhost:8080/",
          "height": 122
        }
      },
      "source": [
        "!pip install dnspython"
      ],
      "execution_count": 0,
      "outputs": [
        {
          "output_type": "stream",
          "text": [
            "Collecting dnspython\n",
            "\u001b[?25l  Downloading https://files.pythonhosted.org/packages/ec/d3/3aa0e7213ef72b8585747aa0e271a9523e713813b9a20177ebe1e939deb0/dnspython-1.16.0-py2.py3-none-any.whl (188kB)\n",
            "\r\u001b[K     |█▊                              | 10kB 16.0MB/s eta 0:00:01\r\u001b[K     |███▌                            | 20kB 3.4MB/s eta 0:00:01\r\u001b[K     |█████▏                          | 30kB 4.9MB/s eta 0:00:01\r\u001b[K     |███████                         | 40kB 3.1MB/s eta 0:00:01\r\u001b[K     |████████▊                       | 51kB 3.8MB/s eta 0:00:01\r\u001b[K     |██████████▍                     | 61kB 4.5MB/s eta 0:00:01\r\u001b[K     |████████████▏                   | 71kB 5.1MB/s eta 0:00:01\r\u001b[K     |██████████████                  | 81kB 5.8MB/s eta 0:00:01\r\u001b[K     |███████████████▋                | 92kB 6.4MB/s eta 0:00:01\r\u001b[K     |█████████████████▍              | 102kB 5.1MB/s eta 0:00:01\r\u001b[K     |███████████████████▏            | 112kB 5.1MB/s eta 0:00:01\r\u001b[K     |████████████████████▉           | 122kB 5.1MB/s eta 0:00:01\r\u001b[K     |██████████████████████▋         | 133kB 5.1MB/s eta 0:00:01\r\u001b[K     |████████████████████████▍       | 143kB 5.1MB/s eta 0:00:01\r\u001b[K     |██████████████████████████      | 153kB 5.1MB/s eta 0:00:01\r\u001b[K     |███████████████████████████▉    | 163kB 5.1MB/s eta 0:00:01\r\u001b[K     |█████████████████████████████▋  | 174kB 5.1MB/s eta 0:00:01\r\u001b[K     |███████████████████████████████▎| 184kB 5.1MB/s eta 0:00:01\r\u001b[K     |████████████████████████████████| 194kB 5.1MB/s \n",
            "\u001b[?25hInstalling collected packages: dnspython\n",
            "Successfully installed dnspython-1.16.0\n"
          ],
          "name": "stdout"
        }
      ]
    },
    {
      "cell_type": "code",
      "metadata": {
        "id": "D3XGleFeVg9O",
        "colab_type": "code",
        "colab": {}
      },
      "source": [
        "import dns\n",
        "import pymongo\n",
        "import pandas as pd"
      ],
      "execution_count": 0,
      "outputs": []
    },
    {
      "cell_type": "code",
      "metadata": {
        "id": "ns0S2lIGVm-t",
        "colab_type": "code",
        "outputId": "afa6d1c3-c410-448f-8265-819d9ffee0bf",
        "colab": {
          "base_uri": "https://localhost:8080/",
          "height": 122
        }
      },
      "source": [
        "from google.colab import drive\n",
        "drive.mount('/content/drive')"
      ],
      "execution_count": 0,
      "outputs": [
        {
          "output_type": "stream",
          "text": [
            "Go to this URL in a browser: https://accounts.google.com/o/oauth2/auth?client_id=947318989803-6bn6qk8qdgf4n4g3pfee6491hc0brc4i.apps.googleusercontent.com&redirect_uri=urn%3aietf%3awg%3aoauth%3a2.0%3aoob&response_type=code&scope=email%20https%3a%2f%2fwww.googleapis.com%2fauth%2fdocs.test%20https%3a%2f%2fwww.googleapis.com%2fauth%2fdrive%20https%3a%2f%2fwww.googleapis.com%2fauth%2fdrive.photos.readonly%20https%3a%2f%2fwww.googleapis.com%2fauth%2fpeopleapi.readonly\n",
            "\n",
            "Enter your authorization code:\n",
            "··········\n",
            "Mounted at /content/drive\n"
          ],
          "name": "stdout"
        }
      ]
    },
    {
      "cell_type": "code",
      "metadata": {
        "id": "v5PuSjcRfLzB",
        "colab_type": "code",
        "colab": {}
      },
      "source": [
        "# Connect to MongoDB\n",
        "client = pymongo.MongoClient(\"mongodb+srv://columbia:<password>@bigdataanalytics-d97sj.gcp.mongodb.net/test?retryWrites=true&w=majority\")\n"
      ],
      "execution_count": 0,
      "outputs": []
    },
    {
      "cell_type": "code",
      "metadata": {
        "id": "-0CJ-XHgRdaJ",
        "colab_type": "code",
        "outputId": "0bef8776-425a-47ad-c108-251d16e9a018",
        "colab": {
          "base_uri": "https://localhost:8080/",
          "height": 71
        }
      },
      "source": [
        "# Read and upload data (ONLY PERFORM ONCE)\n",
        "df = pd.read_csv(\"/content/drive/My Drive/Big Data Analytics/Data/fires_processed.csv\")\n",
        "# Drop NaN\n",
        "df.dropna()\n",
        "\n",
        "# Only keep the required columns\n",
        "df = df[['DAY_OF_WEEK', 'STATE', 'STAT_CAUSE_DESCR', 'FIRE_NAME',\n",
        "                   'NWCG_REPORTING_UNIT_NAME','FIRE_SIZE']]\n",
        "records = df.to_dict('records')"
      ],
      "execution_count": 0,
      "outputs": [
        {
          "output_type": "stream",
          "text": [
            "/usr/local/lib/python3.6/dist-packages/IPython/core/interactiveshell.py:2718: DtypeWarning: Columns (10,12,13,14,15,16,17,18,19,20,37,39) have mixed types. Specify dtype option on import or set low_memory=False.\n",
            "  interactivity=interactivity, compiler=compiler, result=result)\n"
          ],
          "name": "stderr"
        }
      ]
    },
    {
      "cell_type": "code",
      "metadata": {
        "id": "Nc-QpA2ZY3at",
        "colab_type": "code",
        "outputId": "fddb3a09-187d-462e-e7a1-b37dbefd1abd",
        "colab": {
          "base_uri": "https://localhost:8080/",
          "height": 34
        }
      },
      "source": [
        "len(records)"
      ],
      "execution_count": 0,
      "outputs": [
        {
          "output_type": "execute_result",
          "data": {
            "text/plain": [
              "1880465"
            ]
          },
          "metadata": {
            "tags": []
          },
          "execution_count": 8
        }
      ]
    },
    {
      "cell_type": "code",
      "metadata": {
        "id": "2pREDL0vRvA6",
        "colab_type": "code",
        "outputId": "42a335c9-d5a4-4e4a-9883-64730056dfd0",
        "colab": {
          "base_uri": "https://localhost:8080/",
          "height": 34
        }
      },
      "source": [
        "client['Fires'].fires.insert_many(records)"
      ],
      "execution_count": 0,
      "outputs": [
        {
          "output_type": "execute_result",
          "data": {
            "text/plain": [
              "<pymongo.results.InsertManyResult at 0x7f2951084e88>"
            ]
          },
          "metadata": {
            "tags": []
          },
          "execution_count": 11
        }
      ]
    },
    {
      "cell_type": "code",
      "metadata": {
        "id": "iYY93QElNqor",
        "colab_type": "code",
        "colab": {}
      },
      "source": [
        "# Pull Dataset\n",
        "db = client['Fires']\n",
        "col = db['fires']"
      ],
      "execution_count": 0,
      "outputs": []
    },
    {
      "cell_type": "code",
      "metadata": {
        "id": "zXoJDq5dYqN8",
        "colab_type": "code",
        "outputId": "264837d0-9adc-4d52-be64-2846d3d462ba",
        "colab": {
          "base_uri": "https://localhost:8080/",
          "height": 34
        }
      },
      "source": [
        "# Fixing the data with Unknown Causes\n",
        "col.update_many( { \"STAT_CAUSE_DESCR\": {\"$nin\": [\"Arson\", \"Children\", \"Lightning\", \"Debris Burning\", \"Miscellaneous\", \"Equipment Use\", \"Smoking\", \"Railroad\"] } }, { \"$set\": { \"STAT_CAUSE_DESCR\": \"Unknown\" } })"
      ],
      "execution_count": 0,
      "outputs": [
        {
          "output_type": "execute_result",
          "data": {
            "text/plain": [
              "<pymongo.results.UpdateResult at 0x7f29510fc288>"
            ]
          },
          "metadata": {
            "tags": []
          },
          "execution_count": 13
        }
      ]
    },
    {
      "cell_type": "code",
      "metadata": {
        "id": "E2NT0ZrWEL9u",
        "colab_type": "code",
        "outputId": "45e45836-0468-4800-a526-96af63e23a88",
        "colab": {
          "base_uri": "https://localhost:8080/",
          "height": 34
        }
      },
      "source": [
        "# Fixing the data with Unknown States\n",
        "col.update_many( {\"$expr\": { \"$gt\": [ { \"$strLenCP\": \"$STATE\" }, 2 ] }} , { \"$set\": { \"STATE\": \"Unknown\" } })"
      ],
      "execution_count": 0,
      "outputs": [
        {
          "output_type": "execute_result",
          "data": {
            "text/plain": [
              "<pymongo.results.UpdateResult at 0x7f29510fc688>"
            ]
          },
          "metadata": {
            "tags": []
          },
          "execution_count": 14
        }
      ]
    },
    {
      "cell_type": "markdown",
      "metadata": {
        "id": "0F0Mo4n1OSSy",
        "colab_type": "text"
      },
      "source": [
        "**Sample Queries**\n",
        "\n",
        "The following are sample queries used to test MongoDB before being ported into Flask web application."
      ]
    },
    {
      "cell_type": "code",
      "metadata": {
        "id": "ew99y4qIaeWV",
        "colab_type": "code",
        "colab": {}
      },
      "source": [
        "myquery = { \"STATE\": \"CA\", \"STAT_CAUSE_DESCR\": \"Debris Burning\" }\n",
        "doc = col.find(myquery)"
      ],
      "execution_count": 0,
      "outputs": []
    },
    {
      "cell_type": "code",
      "metadata": {
        "id": "9DcSSwWDpcgF",
        "colab_type": "code",
        "outputId": "1b637ab7-227b-4e42-89f9-35147b4c69f1",
        "colab": {
          "base_uri": "https://localhost:8080/",
          "height": 170
        }
      },
      "source": [
        "col.distinct(\"STAT_CAUSE_DESCR\")"
      ],
      "execution_count": 0,
      "outputs": [
        {
          "output_type": "execute_result",
          "data": {
            "text/plain": [
              "['Miscellaneous',\n",
              " 'Lightning',\n",
              " 'Debris Burning',\n",
              " 'Unknown',\n",
              " 'Equipment Use',\n",
              " 'Arson',\n",
              " 'Children',\n",
              " 'Railroad',\n",
              " 'Smoking']"
            ]
          },
          "metadata": {
            "tags": []
          },
          "execution_count": 16
        }
      ]
    },
    {
      "cell_type": "code",
      "metadata": {
        "id": "xzvCT2iOfa9S",
        "colab_type": "code",
        "colab": {}
      },
      "source": [
        "doc = col.aggregate([\n",
        "    {\"$group\" : {\"_id\":\"$STATE\", \"count\":{\"$sum\":1}}},\n",
        "    {\"$sort\": {\"count\":-1}},\n",
        "    {\"$limit\": 10}\n",
        "])"
      ],
      "execution_count": 0,
      "outputs": []
    },
    {
      "cell_type": "code",
      "metadata": {
        "id": "ap3Tn8zvXFB-",
        "colab_type": "code",
        "outputId": "a25ecb06-7678-469b-e772-ebff4374cd28",
        "colab": {
          "base_uri": "https://localhost:8080/",
          "height": 187
        }
      },
      "source": [
        "for x in doc:\n",
        "  print(x)"
      ],
      "execution_count": 0,
      "outputs": [
        {
          "output_type": "stream",
          "text": [
            "{'_id': 'CA', 'count': 189550}\n",
            "{'_id': 'GA', 'count': 168867}\n",
            "{'_id': 'TX', 'count': 142021}\n",
            "{'_id': 'NC', 'count': 111277}\n",
            "{'_id': 'FL', 'count': 90261}\n",
            "{'_id': 'SC', 'count': 81315}\n",
            "{'_id': 'NY', 'count': 80870}\n",
            "{'_id': 'MS', 'count': 79230}\n",
            "{'_id': 'AZ', 'count': 71586}\n",
            "{'_id': 'AL', 'count': 66570}\n"
          ],
          "name": "stdout"
        }
      ]
    }
  ]
}